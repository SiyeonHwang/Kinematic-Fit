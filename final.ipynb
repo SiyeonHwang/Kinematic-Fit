{
 "cells": [
  {
   "cell_type": "code",
   "execution_count": 100,
   "metadata": {},
   "outputs": [],
   "source": [
    "import uproot\n",
    "file = uproot.open(\"ZH_HCC_ZLL_NanoV9_2017_867C.root\")\n",
    "tree = file[\"Events\"]\n",
    "branches = tree.arrays()"
   ]
  },
  {
   "cell_type": "markdown",
   "metadata": {},
   "source": [
    "Masking Muons"
   ]
  },
  {
   "cell_type": "code",
   "execution_count": 101,
   "metadata": {},
   "outputs": [],
   "source": [
    "muon_pt_mask = branches[\"Muon_pt\"] > 25\n",
    "muon_eta_mask = abs(branches[\"Muon_eta\"]) < 2.4\n",
    "muon_pt_eta_mask = muon_pt_mask & muon_eta_mask\n",
    "muon_mask = [len(sublist) > 1 for sublist in branches[\"Muon_mass\"][muon_pt_eta_mask]]"
   ]
  },
  {
   "cell_type": "markdown",
   "metadata": {},
   "source": [
    "Masking Jets"
   ]
  },
  {
   "cell_type": "code",
   "execution_count": 102,
   "metadata": {},
   "outputs": [],
   "source": [
    "jet_pt_mask = branches[\"Jet_pt\"] > 25\n",
    "jet_eta_mask = abs(branches[\"Jet_eta\"]) < 2.4\n",
    "jet_hadronflavour_mask = abs(branches[\"Jet_hadronFlavour\"]) == 4\n",
    "jet_pt_eta_mask = jet_pt_mask & jet_eta_mask & jet_hadronflavour_mask\n",
    "jet_mask = [len(sublist) > 1 for sublist in branches[\"Jet_mass\"][jet_pt_eta_mask]]"
   ]
  },
  {
   "cell_type": "code",
   "execution_count": 103,
   "metadata": {},
   "outputs": [
    {
     "name": "stdout",
     "output_type": "stream",
     "text": [
      "[False False False ... False False False]\n"
     ]
    }
   ],
   "source": [
    "import numpy as np\n",
    "\n",
    "combined_mask = np.logical_and(jet_mask, muon_mask)\n",
    "print(combined_mask)"
   ]
  },
  {
   "cell_type": "markdown",
   "metadata": {},
   "source": [
    "Finding the 4-Vector of Muons"
   ]
  },
  {
   "cell_type": "code",
   "execution_count": 104,
   "metadata": {},
   "outputs": [],
   "source": [
    "import numpy as np\n",
    "import matplotlib.pyplot as plt\n",
    "from pylorentz import Momentum4\n",
    "\n",
    "Muon1_mass = np.array([sublist[0] for sublist in branches[\"Muon_mass\"][muon_pt_eta_mask][combined_mask]])\n",
    "Muon1_eta = np.array([sublist[0] for sublist in branches[\"Muon_eta\"][muon_pt_eta_mask][combined_mask]])\n",
    "Muon1_phi = np.array([sublist[0] for sublist in branches[\"Muon_phi\"][muon_pt_eta_mask][combined_mask]])\n",
    "Muon1_pt = np.array([sublist[0] for sublist in branches[\"Muon_pt\"][muon_pt_eta_mask][combined_mask]])\n",
    "\n",
    "Muon2_mass = np.array([sublist[1] for sublist in branches[\"Muon_mass\"][muon_pt_eta_mask][combined_mask]])\n",
    "Muon2_eta = np.array([sublist[1] for sublist in branches[\"Muon_eta\"][muon_pt_eta_mask][combined_mask]])\n",
    "Muon2_phi = np.array([sublist[1] for sublist in branches[\"Muon_phi\"][muon_pt_eta_mask][combined_mask]])\n",
    "Muon2_pt = np.array([sublist[1] for sublist in branches[\"Muon_pt\"][muon_pt_eta_mask][combined_mask]])\n",
    "\n",
    "Muon1 = Momentum4.m_eta_phi_pt(Muon1_mass, Muon1_eta, Muon1_phi, Muon1_pt)\n",
    "Muon2 = Momentum4.m_eta_phi_pt(Muon2_mass, Muon2_eta, Muon2_phi, Muon2_pt)\n",
    "\n",
    "M_z = Muon1 + Muon2\n",
    "# print(M_z.m)\n",
    "# print(len(M_z.m))"
   ]
  },
  {
   "cell_type": "markdown",
   "metadata": {},
   "source": [
    "Finding the 4-Vector of Jets"
   ]
  },
  {
   "cell_type": "code",
   "execution_count": 105,
   "metadata": {},
   "outputs": [
    {
     "name": "stdout",
     "output_type": "stream",
     "text": [
      "[288.47455185  73.27688467 122.11110432 ...  82.12081985 108.25401798\n",
      " 117.29644321]\n",
      "1419\n"
     ]
    }
   ],
   "source": [
    "Jet1_mass = np.array([sublist[0] for sublist in branches[\"Jet_mass\"][jet_pt_eta_mask][combined_mask]])\n",
    "Jet1_eta = np.array([sublist[0] for sublist in branches[\"Jet_eta\"][jet_pt_eta_mask][combined_mask]])\n",
    "Jet1_phi = np.array([sublist[0] for sublist in branches[\"Jet_phi\"][jet_pt_eta_mask][combined_mask]])\n",
    "Jet1_pt = np.array([sublist[0] for sublist in branches[\"Jet_pt\"][jet_pt_eta_mask][combined_mask]])\n",
    "\n",
    "Jet2_mass = np.array([sublist[1] for sublist in branches[\"Jet_mass\"][jet_pt_eta_mask][combined_mask]])\n",
    "Jet2_eta = np.array([sublist[1] for sublist in branches[\"Jet_eta\"][jet_pt_eta_mask][combined_mask]])\n",
    "Jet2_phi = np.array([sublist[1] for sublist in branches[\"Jet_phi\"][jet_pt_eta_mask][combined_mask]])\n",
    "Jet2_pt = np.array([sublist[1] for sublist in branches[\"Jet_pt\"][jet_pt_eta_mask][combined_mask]])\n",
    "\n",
    "Jet1 = Momentum4.m_eta_phi_pt(Jet1_mass, Jet1_eta, Jet1_phi, Jet1_pt)\n",
    "Jet2 = Momentum4.m_eta_phi_pt(Jet2_mass, Jet2_eta, Jet2_phi, Jet2_pt)\n",
    "\n",
    "M_h = Jet1 + Jet2\n",
    "print(M_h.m)\n",
    "print(len(M_h.m))"
   ]
  },
  {
   "cell_type": "markdown",
   "metadata": {},
   "source": [
    "Finding Invariant Mass of Jets with Fitted Parameters"
   ]
  },
  {
   "cell_type": "code",
   "execution_count": 106,
   "metadata": {},
   "outputs": [],
   "source": [
    "# generic imports\n",
    "import sys\n",
    "import argparse\n",
    "import numpy as np\n",
    "from tqdm.auto import tqdm\n",
    "from array import array\n",
    "\n",
    "# ROOT imports\n",
    "import ROOT\n",
    "\n",
    "# torch imports\n",
    "import torch\n",
    "\n",
    "# framework imports\n",
    "from kinematic_fitter import KinematicFitter\n",
    "\n",
    "def constraint_equations(params: torch.Tensor) -> torch.Tensor:\n",
    "    # Constant parameters\n",
    "    mass_z = torch.tensor(91.2).double()\n",
    "\n",
    "    px1 = params[0]*torch.cos(params[4])\n",
    "    px2 = params[1]*torch.cos(params[5])\n",
    "\n",
    "    py1 = params[0]*torch.sin(params[4])\n",
    "    py2 = params[1]*torch.sin(params[5])\n",
    "\n",
    "    pz1 = params[0]*torch.sinh(params[8])\n",
    "    pz2 = params[1]*torch.sinh(params[9])\n",
    "                    \n",
    "    # Calculate energy for muon 1\n",
    "    E1 = torch.sqrt(px1**2 + py1**2 + pz1**2 + 0.106**2)\n",
    "    # Calculate energy for muon 2\n",
    "    E2 = torch.sqrt(px2**2 + py2**2 + pz2**2 + 0.106**2)\n",
    "    # Calculate invariant mass\n",
    "    invariant_mass_squared = (E1 + E2)**2 - (px1 + px2)**2 - (py1 + py2)**2 - (pz1 + pz2)**2\n",
    "    invariant_mass = torch.sqrt(invariant_mass_squared)\n",
    "\n",
    "    # Calculate constraint equations\n",
    "    constraint1 = params[0]*torch.cos(params[4]) + params[1]*torch.cos(params[5]) + params[2]*torch.cos(params[6]) + params[3]*torch.cos(params[7])\n",
    "    constraint2 = params[0]*torch.sin(params[4]) + params[1]*torch.sin(params[5]) + params[2]*torch.sin(params[6]) + params[3]*torch.sin(params[7])\n",
    "    constraint3 = invariant_mass - mass_z\n",
    "\n",
    "    # Combine constraint equations into a single tensor\n",
    "    constraints = torch.stack([constraint1, constraint2, constraint3])\n",
    "\n",
    "    return constraints\n",
    "\n",
    "m_cc = []\n",
    "\n",
    "# Maximum number of iterations for fitting\n",
    "max_iterations = 10\n",
    "\n",
    "for i in range(len((M_z).m)):\n",
    "    parameters = torch.tensor([Muon1_pt[i], Muon2_pt[i], \n",
    "                               Jet1_pt[i], Jet2_pt[i], \n",
    "                               Muon1_phi[i], Muon2_phi[i],\n",
    "                               Jet1_phi[i], Jet2_phi[i],\n",
    "                               Muon1_eta[i], Muon2_eta[i],\n",
    "                               Jet1_eta[i], Jet2_eta[i]], dtype=torch.float64)\n",
    "\n",
    "    # Define the smearing values\n",
    "    smear_values = [0.05*Muon1_pt[i], 0.05*Muon2_pt[i], 0.15*Jet1_pt[i], 0.15*Jet2_pt[i], 0.05, 0.05, 0.05, 0.05, 0.05, 0.05, 0.05, 0.05]\n",
    "\n",
    "    # The covariance matrix initialization\n",
    "    n_params = 12\n",
    "    covariance_matrix = torch.zeros(n_params, n_params)\n",
    "    for j in range(n_params):\n",
    "        covariance_matrix[j, j] = smear_values[j]**2\n",
    "    \n",
    "    # Kinematic Fitter Initialization\n",
    "    fitter = KinematicFitter(n_constraints=3, n_parameters=12, n_iterations=max_iterations)\n",
    "    fitter.set_covariance_matrix(cov_matrix=covariance_matrix)\n",
    "    ok = fitter.fit(measured_params=parameters, constraints=lambda parameters: constraint_equations(parameters))\n",
    "    \n",
    "    fitted_params = torch.tensor(fitter.get_fitted_measured_params(), dtype=torch.float64)\n",
    "    \n",
    "    fitted_Jet1 = Momentum4.m_eta_phi_pt(0, fitted_params[10], fitted_params[6], fitted_params[2])\n",
    "    fitted_Jet2 = Momentum4.m_eta_phi_pt(0, fitted_params[11], fitted_params[7], fitted_params[3])\n",
    "    \n",
    "    M = fitted_Jet1 + fitted_Jet2\n",
    "    m_cc.append(M.m)"
   ]
  },
  {
   "cell_type": "code",
   "execution_count": 107,
   "metadata": {},
   "outputs": [
    {
     "data": {
      "image/png": "[encoded data removed]",
      "text/plain": [
       "<Figure size 640x480 with 1 Axes>"
      ]
     },
     "metadata": {},
     "output_type": "display_data"
    }
   ],
   "source": [
    "plt.hist([m_cc, (M_h).m], label = [\"fitted\", \"-\"], bins = 50, range = (0, 300), histtype=\"step\")\n",
    "plt.xlabel(\"H boson $M_{\\t{inv}}$\")\n",
    "plt.ylabel(\"Number of events\")\n",
    "plt.legend()\n",
    "plt.show()"
   ]
  },
  {
   "cell_type": "markdown",
   "metadata": {},
   "source": [
    "Delta R"
   ]
  },
  {
   "cell_type": "code",
   "execution_count": null,
   "metadata": {},
   "outputs": [],
   "source": [
    "def delta_r(eta1, phi1, eta2, phi2):\n",
    "    delta_eta = eta1 - eta2\n",
    "    delta_phi = np.abs(phi1 - phi2)\n",
    "    return np.sqrt(delta_eta**2 + delta_phi**2)\n",
    "\n",
    "Jet = []\n",
    "for i in range(len((M_z).m)):\n",
    "    if delta_r(Muon1_eta[i], Muon1_phi[i], Jet1_eta[i], Jet1_phi[i]) > 0.4:\n",
    "        if delta_r(Muon1_eta[i], Muon1_phi[i], Jet2_eta[i], Jet2_phi[i]) > 0.4:\n",
    "            if delta_r(Muon2_eta[i], Muon2_phi[i], Jet1_eta[i], Jet1_phi[i]) > 0.4:\n",
    "                if delta_r(Muon2_eta[i], Muon2_phi[i], Jet2_eta[i], Jet2_phi[i]) > 0.4:\n",
    "                    Jet1 = Momentum4.m_eta_phi_pt(0, Jet1_eta[i], Jet1_phi[i], Jet1_pt[i])\n",
    "                    Jet2 = Momentum4.m_eta_phi_pt(0, Jet2_eta[i], Jet2_phi[i], Jet2_pt[i])\n",
    "                    Jet.append((Jet1+Jet2).m)"
   ]
  },
  {
   "cell_type": "markdown",
   "metadata": {},
   "source": [
    "Remnant Vectors"
   ]
  },
  {
   "cell_type": "code",
   "execution_count": 109,
   "metadata": {},
   "outputs": [],
   "source": [
    "Jet3_pt = []\n",
    "Jet3_phi = []\n",
    "Jet3_eta = []\n",
    "Jet4_pt = []\n",
    "Jet4_phi = []\n",
    "Jet4_eta = []\n",
    "\n",
    "for sublist in branches[\"Jet_pt\"][jet_pt_eta_mask][combined_mask]:\n",
    "    if len(sublist) > 2:\n",
    "        Jet3_pt.append(sublist[2])\n",
    "    else:\n",
    "        Jet3_pt.append(0)\n",
    "\n",
    "for sublist in branches[\"Jet_phi\"][jet_pt_eta_mask][combined_mask]:\n",
    "    if len(sublist) > 2:\n",
    "        Jet3_phi.append(sublist[2])\n",
    "    else:\n",
    "        Jet3_phi.append(0)\n",
    "\n",
    "for sublist in branches[\"Jet_eta\"][jet_pt_eta_mask][combined_mask]:\n",
    "    if len(sublist) > 2:\n",
    "        Jet3_eta.append(sublist[2])\n",
    "    else:\n",
    "        Jet3_eta.append(0)\n",
    "\n",
    "for sublist in branches[\"Jet_pt\"][jet_pt_eta_mask][combined_mask]:\n",
    "    if len(sublist) > 3:\n",
    "        Jet4_pt.append(sublist[3])\n",
    "    else:\n",
    "        Jet4_pt.append(0)\n",
    "\n",
    "for sublist in branches[\"Jet_phi\"][jet_pt_eta_mask][combined_mask]:\n",
    "    if len(sublist) > 3:\n",
    "        Jet4_phi.append(sublist[3])\n",
    "    else:\n",
    "        Jet4_phi.append(0)\n",
    "\n",
    "for sublist in branches[\"Jet_eta\"][jet_pt_eta_mask][combined_mask]:\n",
    "    if len(sublist) > 3:\n",
    "        Jet4_eta.append(sublist[3])\n",
    "    else:\n",
    "        Jet4_eta.append(0)"
   ]
  },
  {
   "cell_type": "code",
   "execution_count": 110,
   "metadata": {},
   "outputs": [],
   "source": [
    "# generic imports\n",
    "import sys\n",
    "import argparse\n",
    "import numpy as np\n",
    "from tqdm.auto import tqdm\n",
    "from array import array\n",
    "\n",
    "# ROOT imports\n",
    "import ROOT\n",
    "\n",
    "# torch imports\n",
    "import torch\n",
    "\n",
    "# framework imports\n",
    "from kinematic_fitter import KinematicFitter\n",
    "\n",
    "def constraint_equations(params: torch.Tensor) -> torch.Tensor:\n",
    "    # Constant parameters\n",
    "    mass_z = torch.tensor(91.2).double()\n",
    "\n",
    "    px1 = params[0]*torch.cos(params[4])\n",
    "    px2 = params[1]*torch.cos(params[5])\n",
    "\n",
    "    py1 = params[0]*torch.sin(params[4])\n",
    "    py2 = params[1]*torch.sin(params[5])\n",
    "\n",
    "    pz1 = params[0]*torch.sinh(params[8])\n",
    "    pz2 = params[1]*torch.sinh(params[9])\n",
    "                    \n",
    "    # Calculate energy for muon 1\n",
    "    E1 = torch.sqrt(px1**2 + py1**2 + pz1**2 + 0.106**2)\n",
    "    # Calculate energy for muon 2\n",
    "    E2 = torch.sqrt(px2**2 + py2**2 + pz2**2 + 0.106**2)\n",
    "    # Calculate invariant mass\n",
    "    invariant_mass_squared = (E1 + E2)**2 - (px1 + px2)**2 - (py1 + py2)**2 - (pz1 + pz2)**2\n",
    "    invariant_mass = torch.sqrt(invariant_mass_squared)\n",
    "\n",
    "    # Calculate constraint equations\n",
    "    constraint1 = params[0]*torch.cos(params[4]) + params[1]*torch.cos(params[5]) + \\\n",
    "                    params[2]*torch.cos(params[6]) + params[3]*torch.cos(params[7]) + \\\n",
    "                    params[12]*torch.cos(params[14]) + params[13]*torch.cos(params[15])\n",
    "    constraint2 = params[0]*torch.sin(params[4]) + params[1]*torch.sin(params[5]) + \\\n",
    "                    params[2]*torch.sin(params[6]) + params[3]*torch.sin(params[7]) + \\\n",
    "                    params[12]*torch.sin(params[14]) + params[13]*torch.sin(params[15])\n",
    "    constraint3 = invariant_mass - mass_z\n",
    "\n",
    "    # Combine constraint equations into a single tensor\n",
    "    constraints = torch.stack([constraint1, constraint2, constraint3])\n",
    "    \n",
    "    return constraints\n",
    "\n",
    "m_cc = []\n",
    "\n",
    "# Maximum number of iterations for fitting\n",
    "max_iterations = 10\n",
    "\n",
    "for i in range(len(M_z.m)):\n",
    "    if delta_r(Muon1_eta[i], Muon1_phi[i], Jet1_eta[i], Jet1_phi[i]) > 0.4:\n",
    "        if delta_r(Muon1_eta[i], Muon1_phi[i], Jet2_eta[i], Jet2_phi[i]) > 0.4:\n",
    "            if delta_r(Muon2_eta[i], Muon2_phi[i], Jet1_eta[i], Jet1_phi[i]) > 0.4:\n",
    "                if delta_r(Muon2_eta[i], Muon2_phi[i], Jet2_eta[i], Jet2_phi[i]) > 0.4:\n",
    "                    \n",
    "                    parameters = torch.tensor([Muon1_pt[i], Muon2_pt[i], \n",
    "                                            Jet1_pt[i], Jet2_pt[i], \n",
    "                                            Muon1_phi[i], Muon2_phi[i],\n",
    "                                            Jet1_phi[i], Jet2_phi[i],\n",
    "                                            Muon1_eta[i], Muon2_eta[i],\n",
    "                                            Jet1_eta[i], Jet2_eta[i],\n",
    "                                            Jet3_pt[i], Jet4_pt[i],\n",
    "                                            Jet3_phi[i], Jet4_phi[i]], dtype=torch.float64)\n",
    "\n",
    "                    # Define the smearing values\n",
    "                    smear_values = [0.05*Muon1_pt[i], 0.05*Muon2_pt[i], 0.15*Jet1_pt[i], 0.15*Jet2_pt[i],\n",
    "                                     0.05, 0.05, 0.05, 0.05, 0.05, 0.05, 0.05, 0.05, 0.05, 0.05, 0.05, 0.05]\n",
    "\n",
    "                    # The covariance matrix initialization\n",
    "                    n_params = 16\n",
    "                    covariance_matrix = torch.zeros(n_params, n_params)\n",
    "                    for j in range(n_params):\n",
    "                        covariance_matrix[j, j] = smear_values[j]**2\n",
    "                    \n",
    "                    # Kinematic Fitter Initialization\n",
    "                    fitter = KinematicFitter(n_constraints=3, n_parameters=16, n_iterations=max_iterations)\n",
    "                    fitter.set_covariance_matrix(cov_matrix=covariance_matrix)\n",
    "                    ok = fitter.fit(measured_params=parameters, constraints=lambda parameters: constraint_equations(parameters))\n",
    "                    \n",
    "                    fitted_params = torch.tensor(fitter.get_fitted_measured_params(), dtype=torch.float64)\n",
    "                    \n",
    "                    fitted_Jet1 = Momentum4.m_eta_phi_pt(0, fitted_params[10], fitted_params[6], fitted_params[2])\n",
    "                    fitted_Jet2 = Momentum4.m_eta_phi_pt(0, fitted_params[11], fitted_params[7], fitted_params[3])\n",
    "                    \n",
    "                    M = fitted_Jet1 + fitted_Jet2\n",
    "                    m_cc.append(M.m)"
   ]
  },
  {
   "cell_type": "code",
   "execution_count": 111,
   "metadata": {},
   "outputs": [
    {
     "data": {
      "image/png": "[encoded data removed]",
      "text/plain": [
       "<Figure size 640x480 with 1 Axes>"
      ]
     },
     "metadata": {},
     "output_type": "display_data"
    }
   ],
   "source": [
    "plt.hist([m_cc, Jet], label = [\"fitted\", \"-\"], bins = 50, range = (0, 300), histtype=\"step\")\n",
    "plt.xlabel(\"H boson $M_{\\t{inv}}$\")\n",
    "plt.ylabel(\"Number of events\")\n",
    "plt.legend()\n",
    "plt.show()"
   ]
  }
 ],
 "metadata": {
  "kernelspec": {
   "display_name": "kinematic_fitter_env",
   "language": "python",
   "name": "python3"
  },
  "language_info": {
   "codemirror_mode": {
    "name": "ipython",
    "version": 3
   },
   "file_extension": ".py",
   "mimetype": "text/x-python",
   "name": "python",
   "nbconvert_exporter": "python",
   "pygments_lexer": "ipython3",
   "version": "3.10.14"
  }
 },
 "nbformat": 4,
 "nbformat_minor": 2
}
